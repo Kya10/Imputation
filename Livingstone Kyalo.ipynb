{
 "cells": [
  {
   "cell_type": "code",
   "execution_count": 1,
   "id": "372c4e74",
   "metadata": {},
   "outputs": [],
   "source": [
    "import pandas as pd\n",
    "import numpy as np\n",
    "import matplotlib.pyplot as plt\n",
    "import statsmodels.api as sm"
   ]
  },
  {
   "cell_type": "code",
   "execution_count": 2,
   "id": "fc1e8637",
   "metadata": {},
   "outputs": [
    {
     "data": {
      "text/html": [
       "<div>\n",
       "<style scoped>\n",
       "    .dataframe tbody tr th:only-of-type {\n",
       "        vertical-align: middle;\n",
       "    }\n",
       "\n",
       "    .dataframe tbody tr th {\n",
       "        vertical-align: top;\n",
       "    }\n",
       "\n",
       "    .dataframe thead th {\n",
       "        text-align: right;\n",
       "    }\n",
       "</style>\n",
       "<table border=\"1\" class=\"dataframe\">\n",
       "  <thead>\n",
       "    <tr style=\"text-align: right;\">\n",
       "      <th></th>\n",
       "      <th>Price</th>\n",
       "      <th>SqFt</th>\n",
       "      <th>Bed</th>\n",
       "      <th>Bath</th>\n",
       "      <th>Offers</th>\n",
       "    </tr>\n",
       "  </thead>\n",
       "  <tbody>\n",
       "    <tr>\n",
       "      <th>0</th>\n",
       "      <td>114300</td>\n",
       "      <td>1790</td>\n",
       "      <td>2</td>\n",
       "      <td>2</td>\n",
       "      <td>2.0</td>\n",
       "    </tr>\n",
       "    <tr>\n",
       "      <th>1</th>\n",
       "      <td>114200</td>\n",
       "      <td>2030</td>\n",
       "      <td>4</td>\n",
       "      <td>2</td>\n",
       "      <td>3.0</td>\n",
       "    </tr>\n",
       "    <tr>\n",
       "      <th>2</th>\n",
       "      <td>114800</td>\n",
       "      <td>1740</td>\n",
       "      <td>3</td>\n",
       "      <td>2</td>\n",
       "      <td>1.0</td>\n",
       "    </tr>\n",
       "    <tr>\n",
       "      <th>3</th>\n",
       "      <td>94700</td>\n",
       "      <td>1980</td>\n",
       "      <td>3</td>\n",
       "      <td>2</td>\n",
       "      <td>NaN</td>\n",
       "    </tr>\n",
       "    <tr>\n",
       "      <th>4</th>\n",
       "      <td>119800</td>\n",
       "      <td>2130</td>\n",
       "      <td>3</td>\n",
       "      <td>3</td>\n",
       "      <td>3.0</td>\n",
       "    </tr>\n",
       "    <tr>\n",
       "      <th>...</th>\n",
       "      <td>...</td>\n",
       "      <td>...</td>\n",
       "      <td>...</td>\n",
       "      <td>...</td>\n",
       "      <td>...</td>\n",
       "    </tr>\n",
       "    <tr>\n",
       "      <th>123</th>\n",
       "      <td>119700</td>\n",
       "      <td>1900</td>\n",
       "      <td>3</td>\n",
       "      <td>3</td>\n",
       "      <td>3.0</td>\n",
       "    </tr>\n",
       "    <tr>\n",
       "      <th>124</th>\n",
       "      <td>147900</td>\n",
       "      <td>2160</td>\n",
       "      <td>4</td>\n",
       "      <td>3</td>\n",
       "      <td>3.0</td>\n",
       "    </tr>\n",
       "    <tr>\n",
       "      <th>125</th>\n",
       "      <td>113500</td>\n",
       "      <td>2070</td>\n",
       "      <td>2</td>\n",
       "      <td>2</td>\n",
       "      <td>NaN</td>\n",
       "    </tr>\n",
       "    <tr>\n",
       "      <th>126</th>\n",
       "      <td>149900</td>\n",
       "      <td>2020</td>\n",
       "      <td>3</td>\n",
       "      <td>3</td>\n",
       "      <td>1.0</td>\n",
       "    </tr>\n",
       "    <tr>\n",
       "      <th>127</th>\n",
       "      <td>124600</td>\n",
       "      <td>2250</td>\n",
       "      <td>3</td>\n",
       "      <td>3</td>\n",
       "      <td>4.0</td>\n",
       "    </tr>\n",
       "  </tbody>\n",
       "</table>\n",
       "<p>128 rows × 5 columns</p>\n",
       "</div>"
      ],
      "text/plain": [
       "      Price  SqFt  Bed  Bath  Offers\n",
       "0    114300  1790    2     2     2.0\n",
       "1    114200  2030    4     2     3.0\n",
       "2    114800  1740    3     2     1.0\n",
       "3     94700  1980    3     2     NaN\n",
       "4    119800  2130    3     3     3.0\n",
       "..      ...   ...  ...   ...     ...\n",
       "123  119700  1900    3     3     3.0\n",
       "124  147900  2160    4     3     3.0\n",
       "125  113500  2070    2     2     NaN\n",
       "126  149900  2020    3     3     1.0\n",
       "127  124600  2250    3     3     4.0\n",
       "\n",
       "[128 rows x 5 columns]"
      ]
     },
     "execution_count": 2,
     "metadata": {},
     "output_type": "execute_result"
    }
   ],
   "source": [
    "data = pd.read_csv(\"HousePrices.csv\")\n",
    "data"
   ]
  },
  {
   "cell_type": "code",
   "execution_count": 3,
   "id": "680f6e04",
   "metadata": {},
   "outputs": [
    {
     "data": {
      "text/html": [
       "<div>\n",
       "<style scoped>\n",
       "    .dataframe tbody tr th:only-of-type {\n",
       "        vertical-align: middle;\n",
       "    }\n",
       "\n",
       "    .dataframe tbody tr th {\n",
       "        vertical-align: top;\n",
       "    }\n",
       "\n",
       "    .dataframe thead th {\n",
       "        text-align: right;\n",
       "    }\n",
       "</style>\n",
       "<table border=\"1\" class=\"dataframe\">\n",
       "  <thead>\n",
       "    <tr style=\"text-align: right;\">\n",
       "      <th></th>\n",
       "      <th>Price</th>\n",
       "      <th>SqFt</th>\n",
       "      <th>Bed</th>\n",
       "      <th>Bath</th>\n",
       "      <th>Offers</th>\n",
       "    </tr>\n",
       "  </thead>\n",
       "  <tbody>\n",
       "    <tr>\n",
       "      <th>count</th>\n",
       "      <td>128.000000</td>\n",
       "      <td>128.000000</td>\n",
       "      <td>128.000000</td>\n",
       "      <td>128.000000</td>\n",
       "      <td>111.000000</td>\n",
       "    </tr>\n",
       "    <tr>\n",
       "      <th>mean</th>\n",
       "      <td>130427.343750</td>\n",
       "      <td>2000.937500</td>\n",
       "      <td>3.023438</td>\n",
       "      <td>2.445312</td>\n",
       "      <td>2.414414</td>\n",
       "    </tr>\n",
       "    <tr>\n",
       "      <th>std</th>\n",
       "      <td>26868.770371</td>\n",
       "      <td>211.572431</td>\n",
       "      <td>0.725951</td>\n",
       "      <td>0.514492</td>\n",
       "      <td>0.995156</td>\n",
       "    </tr>\n",
       "    <tr>\n",
       "      <th>min</th>\n",
       "      <td>69100.000000</td>\n",
       "      <td>1450.000000</td>\n",
       "      <td>2.000000</td>\n",
       "      <td>2.000000</td>\n",
       "      <td>1.000000</td>\n",
       "    </tr>\n",
       "    <tr>\n",
       "      <th>25%</th>\n",
       "      <td>111325.000000</td>\n",
       "      <td>1880.000000</td>\n",
       "      <td>3.000000</td>\n",
       "      <td>2.000000</td>\n",
       "      <td>2.000000</td>\n",
       "    </tr>\n",
       "    <tr>\n",
       "      <th>50%</th>\n",
       "      <td>125950.000000</td>\n",
       "      <td>2000.000000</td>\n",
       "      <td>3.000000</td>\n",
       "      <td>2.000000</td>\n",
       "      <td>2.000000</td>\n",
       "    </tr>\n",
       "    <tr>\n",
       "      <th>75%</th>\n",
       "      <td>148250.000000</td>\n",
       "      <td>2140.000000</td>\n",
       "      <td>3.000000</td>\n",
       "      <td>3.000000</td>\n",
       "      <td>3.000000</td>\n",
       "    </tr>\n",
       "    <tr>\n",
       "      <th>max</th>\n",
       "      <td>211200.000000</td>\n",
       "      <td>2590.000000</td>\n",
       "      <td>5.000000</td>\n",
       "      <td>4.000000</td>\n",
       "      <td>5.000000</td>\n",
       "    </tr>\n",
       "  </tbody>\n",
       "</table>\n",
       "</div>"
      ],
      "text/plain": [
       "               Price         SqFt         Bed        Bath      Offers\n",
       "count     128.000000   128.000000  128.000000  128.000000  111.000000\n",
       "mean   130427.343750  2000.937500    3.023438    2.445312    2.414414\n",
       "std     26868.770371   211.572431    0.725951    0.514492    0.995156\n",
       "min     69100.000000  1450.000000    2.000000    2.000000    1.000000\n",
       "25%    111325.000000  1880.000000    3.000000    2.000000    2.000000\n",
       "50%    125950.000000  2000.000000    3.000000    2.000000    2.000000\n",
       "75%    148250.000000  2140.000000    3.000000    3.000000    3.000000\n",
       "max    211200.000000  2590.000000    5.000000    4.000000    5.000000"
      ]
     },
     "execution_count": 3,
     "metadata": {},
     "output_type": "execute_result"
    }
   ],
   "source": [
    "data.describe()"
   ]
  },
  {
   "cell_type": "code",
   "execution_count": 4,
   "id": "f40b87b2",
   "metadata": {},
   "outputs": [
    {
     "data": {
      "text/plain": [
       "Price      0\n",
       "SqFt       0\n",
       "Bed        0\n",
       "Bath       0\n",
       "Offers    17\n",
       "dtype: int64"
      ]
     },
     "execution_count": 4,
     "metadata": {},
     "output_type": "execute_result"
    }
   ],
   "source": [
    "data.isnull().sum()"
   ]
  },
  {
   "cell_type": "markdown",
   "id": "96759a55",
   "metadata": {},
   "source": [
    "## Listwise Deletion"
   ]
  },
  {
   "cell_type": "code",
   "execution_count": 5,
   "id": "a63b5f4f",
   "metadata": {},
   "outputs": [],
   "source": [
    "data1 = data.dropna()"
   ]
  },
  {
   "cell_type": "code",
   "execution_count": 6,
   "id": "569e4ea6",
   "metadata": {},
   "outputs": [
    {
     "name": "stdout",
     "output_type": "stream",
     "text": [
      "                            OLS Regression Results                            \n",
      "==============================================================================\n",
      "Dep. Variable:                  Price   R-squared:                       0.683\n",
      "Model:                            OLS   Adj. R-squared:                  0.671\n",
      "Method:                 Least Squares   F-statistic:                     57.09\n",
      "Date:                Sat, 05 Nov 2022   Prob (F-statistic):           1.34e-25\n",
      "Time:                        15:37:39   Log-Likelihood:                -1220.2\n",
      "No. Observations:                 111   AIC:                             2450.\n",
      "Df Residuals:                     106   BIC:                             2464.\n",
      "Df Model:                           4                                         \n",
      "Covariance Type:            nonrobust                                         \n",
      "==============================================================================\n",
      "                 coef    std err          t      P>|t|      [0.025      0.975]\n",
      "------------------------------------------------------------------------------\n",
      "const      -9814.6271   1.31e+04     -0.749      0.456   -3.58e+04    1.62e+04\n",
      "SqFt          57.9438      8.544      6.782      0.000      41.005      74.882\n",
      "Bed         9532.7995   2272.716      4.194      0.000    5026.919     1.4e+04\n",
      "Bath        1.246e+04   3289.974      3.787      0.000    5935.086     1.9e+04\n",
      "Offers     -1.352e+04   1513.186     -8.935      0.000   -1.65e+04   -1.05e+04\n",
      "==============================================================================\n",
      "Omnibus:                        2.154   Durbin-Watson:                   1.929\n",
      "Prob(Omnibus):                  0.341   Jarque-Bera (JB):                2.191\n",
      "Skew:                           0.315   Prob(JB):                        0.334\n",
      "Kurtosis:                       2.723   Cond. No.                     1.88e+04\n",
      "==============================================================================\n",
      "\n",
      "Notes:\n",
      "[1] Standard Errors assume that the covariance matrix of the errors is correctly specified.\n",
      "[2] The condition number is large, 1.88e+04. This might indicate that there are\n",
      "strong multicollinearity or other numerical problems.\n"
     ]
    }
   ],
   "source": [
    "ols = sm.OLS(data1[\"Price\"], sm.add_constant(data1.iloc[:,1:]))\n",
    "lm = ols.fit()\n",
    "print(lm.summary())"
   ]
  },
  {
   "cell_type": "markdown",
   "id": "bc107225",
   "metadata": {},
   "source": [
    "## Mean Imputation"
   ]
  },
  {
   "cell_type": "code",
   "execution_count": 7,
   "id": "0c7d71c7",
   "metadata": {
    "scrolled": false
   },
   "outputs": [
    {
     "data": {
      "text/plain": [
       "Price     0\n",
       "SqFt      0\n",
       "Bed       0\n",
       "Bath      0\n",
       "Offers    0\n",
       "dtype: int64"
      ]
     },
     "execution_count": 7,
     "metadata": {},
     "output_type": "execute_result"
    }
   ],
   "source": [
    "data2 = pd.read_csv(\"HousePrices.csv\")\n",
    "data2['Offers'] = data2['Offers'].fillna(data2['Offers'].mean())\n",
    "data2.isnull().sum()"
   ]
  },
  {
   "cell_type": "code",
   "execution_count": 8,
   "id": "0872fca0",
   "metadata": {},
   "outputs": [
    {
     "data": {
      "text/plain": [
       "Price     119200.0\n",
       "SqFt        2110.0\n",
       "Bed            4.0\n",
       "Bath           2.0\n",
       "Offers         NaN\n",
       "Name: 8, dtype: float64"
      ]
     },
     "execution_count": 8,
     "metadata": {},
     "output_type": "execute_result"
    }
   ],
   "source": [
    "data.iloc[8,:]"
   ]
  },
  {
   "cell_type": "code",
   "execution_count": 9,
   "id": "7414563b",
   "metadata": {},
   "outputs": [
    {
     "data": {
      "text/plain": [
       "Price     119200.000000\n",
       "SqFt        2110.000000\n",
       "Bed            4.000000\n",
       "Bath           2.000000\n",
       "Offers         2.414414\n",
       "Name: 8, dtype: float64"
      ]
     },
     "execution_count": 9,
     "metadata": {},
     "output_type": "execute_result"
    }
   ],
   "source": [
    "data2.iloc[8,:]"
   ]
  },
  {
   "cell_type": "code",
   "execution_count": 10,
   "id": "dee437b8",
   "metadata": {},
   "outputs": [
    {
     "name": "stdout",
     "output_type": "stream",
     "text": [
      "                            OLS Regression Results                            \n",
      "==============================================================================\n",
      "Dep. Variable:                  Price   R-squared:                       0.636\n",
      "Model:                            OLS   Adj. R-squared:                  0.625\n",
      "Method:                 Least Squares   F-statistic:                     53.84\n",
      "Date:                Sat, 05 Nov 2022   Prob (F-statistic):           3.76e-26\n",
      "Time:                        15:37:39   Log-Likelihood:                -1421.8\n",
      "No. Observations:                 128   AIC:                             2854.\n",
      "Df Residuals:                     123   BIC:                             2868.\n",
      "Df Model:                           4                                         \n",
      "Covariance Type:            nonrobust                                         \n",
      "==============================================================================\n",
      "                 coef    std err          t      P>|t|      [0.025      0.975]\n",
      "------------------------------------------------------------------------------\n",
      "const      -1.175e+04   1.39e+04     -0.844      0.400   -3.93e+04    1.58e+04\n",
      "SqFt          54.3202      8.924      6.087      0.000      36.655      71.985\n",
      "Bed         8737.1678   2364.436      3.695      0.000    4056.912    1.34e+04\n",
      "Bath        1.643e+04   3429.648      4.792      0.000    9646.017    2.32e+04\n",
      "Offers     -1.372e+04   1680.276     -8.163      0.000    -1.7e+04   -1.04e+04\n",
      "==============================================================================\n",
      "Omnibus:                        0.605   Durbin-Watson:                   1.921\n",
      "Prob(Omnibus):                  0.739   Jarque-Bera (JB):                0.746\n",
      "Skew:                           0.119   Prob(JB):                        0.689\n",
      "Kurtosis:                       2.711   Cond. No.                     1.93e+04\n",
      "==============================================================================\n",
      "\n",
      "Notes:\n",
      "[1] Standard Errors assume that the covariance matrix of the errors is correctly specified.\n",
      "[2] The condition number is large, 1.93e+04. This might indicate that there are\n",
      "strong multicollinearity or other numerical problems.\n"
     ]
    }
   ],
   "source": [
    "ols1 = sm.OLS(data2[\"Price\"], sm.add_constant(data2.iloc[:,1:]))\n",
    "lm1 = ols1.fit()\n",
    "print(lm1.summary())"
   ]
  },
  {
   "cell_type": "markdown",
   "id": "02738353",
   "metadata": {},
   "source": [
    "## Regression Based Imputation"
   ]
  },
  {
   "cell_type": "code",
   "execution_count": 11,
   "id": "faead041",
   "metadata": {},
   "outputs": [
    {
     "name": "stderr",
     "output_type": "stream",
     "text": [
      "C:\\Users\\user\\AppData\\Local\\Temp\\ipykernel_19020\\4290046809.py:7: SettingWithCopyWarning: \n",
      "A value is trying to be set on a copy of a slice from a DataFrame.\n",
      "Try using .loc[row_indexer,col_indexer] = value instead\n",
      "\n",
      "See the caveats in the documentation: https://pandas.pydata.org/pandas-docs/stable/user_guide/indexing.html#returning-a-view-versus-a-copy\n",
      "  data_test[\"Offers\"]= lmr.predict(sm.add_constant(data_test[[\"SqFt\",\"Bed\", \"Bath\"]]))\n"
     ]
    }
   ],
   "source": [
    "data_test = data[data['Offers'].isnull()==True]\n",
    "data_train = data[data['Offers'].isnull()==False]\n",
    "\n",
    "olsr = sm.OLS(data_train[[\"Offers\"]], sm.add_constant(data_train[[\"SqFt\",\"Bed\", \"Bath\"]]))\n",
    "lmr = olsr.fit()\n",
    "\n",
    "data_test[\"Offers\"]= lmr.predict(sm.add_constant(data_test[[\"SqFt\",\"Bed\", \"Bath\"]]))\n",
    "data3 = pd.concat([data_train,data_test])"
   ]
  },
  {
   "cell_type": "code",
   "execution_count": 12,
   "id": "d02501b4",
   "metadata": {},
   "outputs": [
    {
     "name": "stdout",
     "output_type": "stream",
     "text": [
      "                            OLS Regression Results                            \n",
      "==============================================================================\n",
      "Dep. Variable:                  Price   R-squared:                       0.628\n",
      "Model:                            OLS   Adj. R-squared:                  0.616\n",
      "Method:                 Least Squares   F-statistic:                     51.97\n",
      "Date:                Sat, 05 Nov 2022   Prob (F-statistic):           1.47e-25\n",
      "Time:                        15:37:39   Log-Likelihood:                -1423.2\n",
      "No. Observations:                 128   AIC:                             2856.\n",
      "Df Residuals:                     123   BIC:                             2871.\n",
      "Df Model:                           4                                         \n",
      "Covariance Type:            nonrobust                                         \n",
      "==============================================================================\n",
      "                 coef    std err          t      P>|t|      [0.025      0.975]\n",
      "------------------------------------------------------------------------------\n",
      "const      -1.563e+04   1.41e+04     -1.107      0.271   -4.36e+04    1.23e+04\n",
      "SqFt          55.9697      9.094      6.155      0.000      37.969      73.971\n",
      "Bed         8713.2486   2391.667      3.643      0.000    3979.091    1.34e+04\n",
      "Bath        1.658e+04   3470.895      4.776      0.000    9707.078    2.34e+04\n",
      "Offers     -1.352e+04   1710.862     -7.903      0.000   -1.69e+04   -1.01e+04\n",
      "==============================================================================\n",
      "Omnibus:                        0.685   Durbin-Watson:                   1.920\n",
      "Prob(Omnibus):                  0.710   Jarque-Bera (JB):                0.672\n",
      "Skew:                           0.171   Prob(JB):                        0.715\n",
      "Kurtosis:                       2.906   Cond. No.                     1.93e+04\n",
      "==============================================================================\n",
      "\n",
      "Notes:\n",
      "[1] Standard Errors assume that the covariance matrix of the errors is correctly specified.\n",
      "[2] The condition number is large, 1.93e+04. This might indicate that there are\n",
      "strong multicollinearity or other numerical problems.\n"
     ]
    }
   ],
   "source": [
    "ols2 = sm.OLS(data3[\"Price\"], sm.add_constant(data3.iloc[:,1:]))\n",
    "lm2 = ols2.fit()\n",
    "print(lm2.summary())"
   ]
  },
  {
   "cell_type": "markdown",
   "id": "70b2d63f",
   "metadata": {},
   "source": [
    "## Stochastic Regression Based Imputation"
   ]
  },
  {
   "cell_type": "code",
   "execution_count": 13,
   "id": "9ba1b982",
   "metadata": {
    "scrolled": true
   },
   "outputs": [
    {
     "name": "stderr",
     "output_type": "stream",
     "text": [
      "C:\\Users\\user\\AppData\\Local\\Temp\\ipykernel_19020\\1043183130.py:10: SettingWithCopyWarning: \n",
      "A value is trying to be set on a copy of a slice from a DataFrame.\n",
      "Try using .loc[row_indexer,col_indexer] = value instead\n",
      "\n",
      "See the caveats in the documentation: https://pandas.pydata.org/pandas-docs/stable/user_guide/indexing.html#returning-a-view-versus-a-copy\n",
      "  data_test1[\"Offers\"] = rand_pred\n"
     ]
    }
   ],
   "source": [
    "data_test1 = data[data['Offers'].isnull()==True]\n",
    "data_train1 = data[data['Offers'].isnull()==False]\n",
    "\n",
    "olss = sm.OLS(data_train1[[\"Offers\"]], sm.add_constant(data_train1[[\"SqFt\",\"Bed\", \"Bath\"]]))\n",
    "lms = olss.fit()\n",
    "\n",
    "mean = lms.predict(sm.add_constant(data_test1[[\"SqFt\",\"Bed\", \"Bath\"]]))\n",
    "std = lms.resid.std()\n",
    "rand_pred = np.random.normal(size = data_test1.shape[0], loc = mean, scale = std)\n",
    "data_test1[\"Offers\"] = rand_pred\n",
    "data4 = pd.concat([data_train1,data_test1])"
   ]
  },
  {
   "cell_type": "code",
   "execution_count": 14,
   "id": "143642c3",
   "metadata": {},
   "outputs": [
    {
     "data": {
      "text/html": [
       "<div>\n",
       "<style scoped>\n",
       "    .dataframe tbody tr th:only-of-type {\n",
       "        vertical-align: middle;\n",
       "    }\n",
       "\n",
       "    .dataframe tbody tr th {\n",
       "        vertical-align: top;\n",
       "    }\n",
       "\n",
       "    .dataframe thead th {\n",
       "        text-align: right;\n",
       "    }\n",
       "</style>\n",
       "<table border=\"1\" class=\"dataframe\">\n",
       "  <thead>\n",
       "    <tr style=\"text-align: right;\">\n",
       "      <th></th>\n",
       "      <th>Price</th>\n",
       "      <th>SqFt</th>\n",
       "      <th>Bed</th>\n",
       "      <th>Bath</th>\n",
       "      <th>Offers</th>\n",
       "    </tr>\n",
       "  </thead>\n",
       "  <tbody>\n",
       "    <tr>\n",
       "      <th>3</th>\n",
       "      <td>94700</td>\n",
       "      <td>1980</td>\n",
       "      <td>3</td>\n",
       "      <td>2</td>\n",
       "      <td>1.799358</td>\n",
       "    </tr>\n",
       "    <tr>\n",
       "      <th>8</th>\n",
       "      <td>119200</td>\n",
       "      <td>2110</td>\n",
       "      <td>4</td>\n",
       "      <td>2</td>\n",
       "      <td>1.923565</td>\n",
       "    </tr>\n",
       "    <tr>\n",
       "      <th>12</th>\n",
       "      <td>102600</td>\n",
       "      <td>1910</td>\n",
       "      <td>3</td>\n",
       "      <td>2</td>\n",
       "      <td>1.322989</td>\n",
       "    </tr>\n",
       "    <tr>\n",
       "      <th>21</th>\n",
       "      <td>113800</td>\n",
       "      <td>2000</td>\n",
       "      <td>3</td>\n",
       "      <td>2</td>\n",
       "      <td>-0.388935</td>\n",
       "    </tr>\n",
       "    <tr>\n",
       "      <th>33</th>\n",
       "      <td>139600</td>\n",
       "      <td>2280</td>\n",
       "      <td>5</td>\n",
       "      <td>3</td>\n",
       "      <td>3.351091</td>\n",
       "    </tr>\n",
       "    <tr>\n",
       "      <th>34</th>\n",
       "      <td>117800</td>\n",
       "      <td>2000</td>\n",
       "      <td>2</td>\n",
       "      <td>2</td>\n",
       "      <td>4.009231</td>\n",
       "    </tr>\n",
       "    <tr>\n",
       "      <th>47</th>\n",
       "      <td>90300</td>\n",
       "      <td>2050</td>\n",
       "      <td>3</td>\n",
       "      <td>2</td>\n",
       "      <td>2.407172</td>\n",
       "    </tr>\n",
       "    <tr>\n",
       "      <th>77</th>\n",
       "      <td>176500</td>\n",
       "      <td>2280</td>\n",
       "      <td>4</td>\n",
       "      <td>3</td>\n",
       "      <td>4.113852</td>\n",
       "    </tr>\n",
       "    <tr>\n",
       "      <th>89</th>\n",
       "      <td>97800</td>\n",
       "      <td>2010</td>\n",
       "      <td>2</td>\n",
       "      <td>2</td>\n",
       "      <td>3.390598</td>\n",
       "    </tr>\n",
       "    <tr>\n",
       "      <th>100</th>\n",
       "      <td>103200</td>\n",
       "      <td>2010</td>\n",
       "      <td>3</td>\n",
       "      <td>2</td>\n",
       "      <td>1.722190</td>\n",
       "    </tr>\n",
       "    <tr>\n",
       "      <th>102</th>\n",
       "      <td>136800</td>\n",
       "      <td>2410</td>\n",
       "      <td>3</td>\n",
       "      <td>3</td>\n",
       "      <td>3.909353</td>\n",
       "    </tr>\n",
       "    <tr>\n",
       "      <th>103</th>\n",
       "      <td>211200</td>\n",
       "      <td>2440</td>\n",
       "      <td>4</td>\n",
       "      <td>3</td>\n",
       "      <td>3.055031</td>\n",
       "    </tr>\n",
       "    <tr>\n",
       "      <th>104</th>\n",
       "      <td>82300</td>\n",
       "      <td>1910</td>\n",
       "      <td>3</td>\n",
       "      <td>2</td>\n",
       "      <td>1.848358</td>\n",
       "    </tr>\n",
       "    <tr>\n",
       "      <th>106</th>\n",
       "      <td>108500</td>\n",
       "      <td>2130</td>\n",
       "      <td>3</td>\n",
       "      <td>2</td>\n",
       "      <td>2.819332</td>\n",
       "    </tr>\n",
       "    <tr>\n",
       "      <th>113</th>\n",
       "      <td>115700</td>\n",
       "      <td>2000</td>\n",
       "      <td>3</td>\n",
       "      <td>2</td>\n",
       "      <td>2.868892</td>\n",
       "    </tr>\n",
       "    <tr>\n",
       "      <th>115</th>\n",
       "      <td>102500</td>\n",
       "      <td>1900</td>\n",
       "      <td>3</td>\n",
       "      <td>3</td>\n",
       "      <td>2.229822</td>\n",
       "    </tr>\n",
       "    <tr>\n",
       "      <th>125</th>\n",
       "      <td>113500</td>\n",
       "      <td>2070</td>\n",
       "      <td>2</td>\n",
       "      <td>2</td>\n",
       "      <td>2.465356</td>\n",
       "    </tr>\n",
       "  </tbody>\n",
       "</table>\n",
       "</div>"
      ],
      "text/plain": [
       "      Price  SqFt  Bed  Bath    Offers\n",
       "3     94700  1980    3     2  1.799358\n",
       "8    119200  2110    4     2  1.923565\n",
       "12   102600  1910    3     2  1.322989\n",
       "21   113800  2000    3     2 -0.388935\n",
       "33   139600  2280    5     3  3.351091\n",
       "34   117800  2000    2     2  4.009231\n",
       "47    90300  2050    3     2  2.407172\n",
       "77   176500  2280    4     3  4.113852\n",
       "89    97800  2010    2     2  3.390598\n",
       "100  103200  2010    3     2  1.722190\n",
       "102  136800  2410    3     3  3.909353\n",
       "103  211200  2440    4     3  3.055031\n",
       "104   82300  1910    3     2  1.848358\n",
       "106  108500  2130    3     2  2.819332\n",
       "113  115700  2000    3     2  2.868892\n",
       "115  102500  1900    3     3  2.229822\n",
       "125  113500  2070    2     2  2.465356"
      ]
     },
     "execution_count": 14,
     "metadata": {},
     "output_type": "execute_result"
    }
   ],
   "source": [
    "data_test1"
   ]
  },
  {
   "cell_type": "code",
   "execution_count": 15,
   "id": "6d91be66",
   "metadata": {},
   "outputs": [
    {
     "name": "stdout",
     "output_type": "stream",
     "text": [
      "                            OLS Regression Results                            \n",
      "==============================================================================\n",
      "Dep. Variable:                  Price   R-squared:                       0.585\n",
      "Model:                            OLS   Adj. R-squared:                  0.571\n",
      "Method:                 Least Squares   F-statistic:                     43.28\n",
      "Date:                Sat, 05 Nov 2022   Prob (F-statistic):           1.27e-22\n",
      "Time:                        15:37:39   Log-Likelihood:                -1430.3\n",
      "No. Observations:                 128   AIC:                             2871.\n",
      "Df Residuals:                     123   BIC:                             2885.\n",
      "Df Model:                           4                                         \n",
      "Covariance Type:            nonrobust                                         \n",
      "==============================================================================\n",
      "                 coef    std err          t      P>|t|      [0.025      0.975]\n",
      "------------------------------------------------------------------------------\n",
      "const      -1.751e+04    1.5e+04     -1.169      0.245   -4.72e+04    1.21e+04\n",
      "SqFt          53.9975      9.637      5.603      0.000      34.922      73.073\n",
      "Bed         8531.4623   2534.575      3.366      0.001    3514.426    1.35e+04\n",
      "Bath         1.67e+04   3678.297      4.541      0.000    9420.961     2.4e+04\n",
      "Offers     -1.101e+04   1680.284     -6.554      0.000   -1.43e+04   -7686.340\n",
      "==============================================================================\n",
      "Omnibus:                        0.004   Durbin-Watson:                   1.955\n",
      "Prob(Omnibus):                  0.998   Jarque-Bera (JB):                0.094\n",
      "Skew:                          -0.007   Prob(JB):                        0.954\n",
      "Kurtosis:                       2.868   Cond. No.                     1.94e+04\n",
      "==============================================================================\n",
      "\n",
      "Notes:\n",
      "[1] Standard Errors assume that the covariance matrix of the errors is correctly specified.\n",
      "[2] The condition number is large, 1.94e+04. This might indicate that there are\n",
      "strong multicollinearity or other numerical problems.\n"
     ]
    }
   ],
   "source": [
    "ols3 = sm.OLS(data4[\"Price\"], sm.add_constant(data4.iloc[:,1:]))\n",
    "lm3 = ols3.fit()\n",
    "print(lm3.summary())"
   ]
  },
  {
   "cell_type": "markdown",
   "id": "4aa77c34",
   "metadata": {},
   "source": [
    "## Multiple Imputation"
   ]
  },
  {
   "cell_type": "code",
   "execution_count": 16,
   "id": "5a1efed3",
   "metadata": {},
   "outputs": [
    {
     "name": "stderr",
     "output_type": "stream",
     "text": [
      "C:\\Users\\user\\AppData\\Local\\Temp\\ipykernel_19020\\4217445370.py:14: SettingWithCopyWarning: \n",
      "A value is trying to be set on a copy of a slice from a DataFrame.\n",
      "Try using .loc[row_indexer,col_indexer] = value instead\n",
      "\n",
      "See the caveats in the documentation: https://pandas.pydata.org/pandas-docs/stable/user_guide/indexing.html#returning-a-view-versus-a-copy\n",
      "  data_test2[\"Offers\"] = rand_pred\n",
      "C:\\Users\\user\\AppData\\Local\\Temp\\ipykernel_19020\\4217445370.py:14: SettingWithCopyWarning: \n",
      "A value is trying to be set on a copy of a slice from a DataFrame.\n",
      "Try using .loc[row_indexer,col_indexer] = value instead\n",
      "\n",
      "See the caveats in the documentation: https://pandas.pydata.org/pandas-docs/stable/user_guide/indexing.html#returning-a-view-versus-a-copy\n",
      "  data_test2[\"Offers\"] = rand_pred\n",
      "C:\\Users\\user\\AppData\\Local\\Temp\\ipykernel_19020\\4217445370.py:14: SettingWithCopyWarning: \n",
      "A value is trying to be set on a copy of a slice from a DataFrame.\n",
      "Try using .loc[row_indexer,col_indexer] = value instead\n",
      "\n",
      "See the caveats in the documentation: https://pandas.pydata.org/pandas-docs/stable/user_guide/indexing.html#returning-a-view-versus-a-copy\n",
      "  data_test2[\"Offers\"] = rand_pred\n",
      "C:\\Users\\user\\AppData\\Local\\Temp\\ipykernel_19020\\4217445370.py:14: SettingWithCopyWarning: \n",
      "A value is trying to be set on a copy of a slice from a DataFrame.\n",
      "Try using .loc[row_indexer,col_indexer] = value instead\n",
      "\n",
      "See the caveats in the documentation: https://pandas.pydata.org/pandas-docs/stable/user_guide/indexing.html#returning-a-view-versus-a-copy\n",
      "  data_test2[\"Offers\"] = rand_pred\n",
      "C:\\Users\\user\\AppData\\Local\\Temp\\ipykernel_19020\\4217445370.py:14: SettingWithCopyWarning: \n",
      "A value is trying to be set on a copy of a slice from a DataFrame.\n",
      "Try using .loc[row_indexer,col_indexer] = value instead\n",
      "\n",
      "See the caveats in the documentation: https://pandas.pydata.org/pandas-docs/stable/user_guide/indexing.html#returning-a-view-versus-a-copy\n",
      "  data_test2[\"Offers\"] = rand_pred\n",
      "C:\\Users\\user\\AppData\\Local\\Temp\\ipykernel_19020\\4217445370.py:14: SettingWithCopyWarning: \n",
      "A value is trying to be set on a copy of a slice from a DataFrame.\n",
      "Try using .loc[row_indexer,col_indexer] = value instead\n",
      "\n",
      "See the caveats in the documentation: https://pandas.pydata.org/pandas-docs/stable/user_guide/indexing.html#returning-a-view-versus-a-copy\n",
      "  data_test2[\"Offers\"] = rand_pred\n"
     ]
    },
    {
     "data": {
      "text/plain": [
       "array([-13227.49755753,     46.67119577,   7566.72291637,  13945.35203317,\n",
       "       -10392.07653573])"
      ]
     },
     "execution_count": 16,
     "metadata": {},
     "output_type": "execute_result"
    }
   ],
   "source": [
    "data_test2 = data[data['Offers'].isnull()==True]\n",
    "data_train2 = data[data['Offers'].isnull()==False]\n",
    "\n",
    "olsm = sm.OLS(data_train2[[\"Offers\"]], sm.add_constant(data_train2[[\"SqFt\",\"Bed\", \"Bath\"]]))\n",
    "lmm = olsm.fit()\n",
    "\n",
    "mean = lmm.predict(sm.add_constant(data_test2[[\"SqFt\",\"Bed\", \"Bath\"]]))\n",
    "std = lmm.resid.std()\n",
    "\n",
    "model = []\n",
    "coef = np.zeros((5,7))\n",
    "for i in range(0,6):\n",
    "    rand_pred = np.random.normal(size = data_test2.shape[0], loc = mean, scale = std)\n",
    "    data_test2[\"Offers\"] = rand_pred\n",
    "    data4 = pd.concat([data_train2,data_test2])\n",
    "    lm = sm.OLS(data4[\"Price\"], sm.add_constant(data4.iloc[:,1:])).fit()\n",
    "    model.append(lm)\n",
    "    coef[:,i] = lm.params\n",
    "    \n",
    "coef.mean(axis=1)"
   ]
  },
  {
   "cell_type": "code",
   "execution_count": null,
   "id": "f109ed63",
   "metadata": {},
   "outputs": [],
   "source": []
  }
 ],
 "metadata": {
  "kernelspec": {
   "display_name": "Python 3 (ipykernel)",
   "language": "python",
   "name": "python3"
  },
  "language_info": {
   "codemirror_mode": {
    "name": "ipython",
    "version": 3
   },
   "file_extension": ".py",
   "mimetype": "text/x-python",
   "name": "python",
   "nbconvert_exporter": "python",
   "pygments_lexer": "ipython3",
   "version": "3.9.13"
  }
 },
 "nbformat": 4,
 "nbformat_minor": 5
}
